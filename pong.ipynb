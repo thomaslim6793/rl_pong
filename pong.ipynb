{
 "cells": [
  {
   "cell_type": "markdown",
   "metadata": {},
   "source": [
    "# Setup Pong"
   ]
  },
  {
   "cell_type": "code",
   "execution_count": 1,
   "metadata": {},
   "outputs": [],
   "source": [
    "from tqdm import tqdm\n",
    "import numpy as np\n",
    "import gym"
   ]
  },
  {
   "cell_type": "code",
   "execution_count": 2,
   "metadata": {},
   "outputs": [],
   "source": [
    "from gym.wrappers.monitoring.video_recorder import VideoRecorder"
   ]
  },
  {
   "cell_type": "code",
   "execution_count": 3,
   "metadata": {},
   "outputs": [
    {
     "name": "stderr",
     "output_type": "stream",
     "text": [
      "A.L.E: Arcade Learning Environment (version 0.8.1+53f58b7)\n",
      "[Powered by Stella]\n"
     ]
    }
   ],
   "source": [
    "env = gym.make(\"Pong-v4\", render_mode=\"rgb_array\")"
   ]
  },
  {
   "cell_type": "code",
   "execution_count": 4,
   "metadata": {},
   "outputs": [
    {
     "name": "stdout",
     "output_type": "stream",
     "text": [
      "Discrete(6)\n"
     ]
    }
   ],
   "source": [
    "print(env.action_space)"
   ]
  },
  {
   "cell_type": "code",
   "execution_count": 5,
   "metadata": {},
   "outputs": [
    {
     "name": "stdout",
     "output_type": "stream",
     "text": [
      "['NOOP', 'FIRE', 'RIGHT', 'LEFT', 'RIGHTFIRE', 'LEFTFIRE']\n"
     ]
    }
   ],
   "source": [
    "print(env.get_action_meanings())"
   ]
  },
  {
   "cell_type": "code",
   "execution_count": 6,
   "metadata": {},
   "outputs": [],
   "source": [
    "env_recorder = VideoRecorder(env, path=\"./video.mp4\", enabled=True)"
   ]
  },
  {
   "cell_type": "code",
   "execution_count": 7,
   "metadata": {},
   "outputs": [
    {
     "name": "stdout",
     "output_type": "stream",
     "text": [
      "Box(0, 255, (210, 160, 3), uint8)\n"
     ]
    }
   ],
   "source": [
    "print(env_recorder.env.observation_space)"
   ]
  },
  {
   "cell_type": "markdown",
   "metadata": {},
   "source": [
    "# Preprocess Frames (the observation)"
   ]
  },
  {
   "cell_type": "code",
   "execution_count": 8,
   "metadata": {},
   "outputs": [
    {
     "name": "stdout",
     "output_type": "stream",
     "text": [
      "Box(0, 255, (210, 160, 3), uint8)\n"
     ]
    }
   ],
   "source": [
    "print(env_recorder.env.observation_space)"
   ]
  },
  {
   "cell_type": "code",
   "execution_count": 9,
   "metadata": {},
   "outputs": [
    {
     "name": "stdout",
     "output_type": "stream",
     "text": [
      "(210, 160, 3)\n"
     ]
    },
    {
     "name": "stderr",
     "output_type": "stream",
     "text": [
      "/Users/thomaslim/miniconda3/envs/rl_projects/lib/python3.10/site-packages/gym/utils/passive_env_checker.py:289: UserWarning: \u001b[33mWARN: No render fps was declared in the environment (env.metadata['render_fps'] is None or not defined), rendering may occur at inconsistent fps.\u001b[0m\n",
      "  logger.warn(\n"
     ]
    },
    {
     "data": {
      "text/plain": [
       "<matplotlib.image.AxesImage at 0x10bfab460>"
      ]
     },
     "execution_count": 9,
     "metadata": {},
     "output_type": "execute_result"
    },
    {
     "data": {
      "image/png": "[encoded data removed]",
      "text/plain": [
       "<Figure size 640x480 with 1 Axes>"
      ]
     },
     "metadata": {},
     "output_type": "display_data"
    }
   ],
   "source": [
    "import matplotlib.pyplot as plt\n",
    "\n",
    "env_recorder.env.seed(42)\n",
    "env_recorder.env.reset()\n",
    "random_frame = env_recorder.env.render()\n",
    "print(random_frame.shape)\n",
    "plt.imshow(random_frame)"
   ]
  },
  {
   "cell_type": "code",
   "execution_count": 10,
   "metadata": {},
   "outputs": [],
   "source": [
    "def frame_preprocessing(observation_frame):\n",
    "    # Crop the frame.\n",
    "    observation_frame = observation_frame[35:195]\n",
    "    # Downsample the frame by a factor of 2.\n",
    "    observation_frame = observation_frame[::2, ::2, 0]\n",
    "    # Remove the background and apply other enhancements.\n",
    "    observation_frame[observation_frame == 144] = 0  # Erase the background (type 1).\n",
    "    observation_frame[observation_frame == 109] = 0  # Erase the background (type 2).\n",
    "    observation_frame[observation_frame != 0] = 1  # Set the items (rackets, ball) to 1.\n",
    "    # Return the preprocessed frame as a 1D floating-point array.\n",
    "    return observation_frame.astype(float)"
   ]
  },
  {
   "cell_type": "code",
   "execution_count": 11,
   "metadata": {},
   "outputs": [
    {
     "name": "stdout",
     "output_type": "stream",
     "text": [
      "(80, 80)\n"
     ]
    },
    {
     "data": {
      "image/png": "[encoded data removed]",
      "text/plain": [
       "<Figure size 640x480 with 1 Axes>"
      ]
     },
     "metadata": {},
     "output_type": "display_data"
    }
   ],
   "source": [
    "preprocessed_random_frame = frame_preprocessing(random_frame)\n",
    "plt.imshow(preprocessed_random_frame, cmap=\"gray\")\n",
    "print(preprocessed_random_frame.shape)"
   ]
  },
  {
   "cell_type": "markdown",
   "metadata": {},
   "source": [
    "# Create the policy (the neural network) and the forward pass"
   ]
  },
  {
   "cell_type": "code",
   "execution_count": 12,
   "metadata": {},
   "outputs": [],
   "source": [
    "rng = np.random.default_rng(seed=12288743)"
   ]
  },
  {
   "cell_type": "code",
   "execution_count": 13,
   "metadata": {},
   "outputs": [],
   "source": [
    "D = 80 * 80\n",
    "H = 200\n",
    "model = {}"
   ]
  },
  {
   "cell_type": "code",
   "execution_count": 14,
   "metadata": {},
   "outputs": [],
   "source": [
    "model[\"W1\"] = rng.standard_normal(size=(H, D)) / np.sqrt(D)\n",
    "model[\"W2\"] = rng.standard_normal(size=H) / np.sqrt(H)"
   ]
  },
  {
   "cell_type": "code",
   "execution_count": 15,
   "metadata": {},
   "outputs": [],
   "source": [
    "def policy_forward(x, model):\n",
    "    # Matrix-multiply the weights by the input in the one and only hidden layer.\n",
    "    h = np.dot(model[\"W1\"], x)\n",
    "    # Apply non-linearity with ReLU.\n",
    "    h[h < 0] = 0\n",
    "    # Calculate the \"dot\" product in the outer layer.\n",
    "    # The input for the sigmoid function is called logit.\n",
    "    logit = np.dot(model[\"W2\"], h)\n",
    "    # Apply the sigmoid function (non-linear activation).\n",
    "    p = sigmoid(logit)\n",
    "    # Return a log probability for the action 2 (\"move up\")\n",
    "    # and the hidden \"state\" that you need for backpropagation.\n",
    "    return p, h\n",
    "\n",
    "def sigmoid(x):\n",
    "    return 1.0 / (1.0 + np.exp(-x))\n",
    "\n",
    "def policy_backward(eph, epdlogp, epx, model):\n",
    "    dW2 = np.dot(eph.T, epdlogp).ravel()  # Update for W2 using hidden states and action log prob gradients\n",
    "    dh = np.outer(epdlogp, model[\"W2\"])   # Compute gradient for hidden layer\n",
    "    dh[eph <= 0] = 0  # Backprop through ReLU\n",
    "    dW1 = np.dot(dh.T, epx)  # Update for W1 using input states (epx)\n",
    "    # Return new optimized weights\n",
    "    return {\"W1\": dW1, \"W2\": dW2}"
   ]
  },
  {
   "cell_type": "code",
   "execution_count": 16,
   "metadata": {},
   "outputs": [],
   "source": [
    "# All preprocessed observations for the episode.\n",
    "xs = []\n",
    "# All hidden \"states\" (from the network) for the episode.\n",
    "hs = []\n",
    "# All gradients of probability actions\n",
    "# (with respect to observations) for the episode.\n",
    "dlogps = []\n",
    "# All rewards for the episode.\n",
    "drs = []"
   ]
  },
  {
   "cell_type": "code",
   "execution_count": 17,
   "metadata": {},
   "outputs": [],
   "source": [
    "decay_rate = 0.99\n",
    "grad_buffer = {k: np.zeros_like(v) for k, v in model.items()}\n",
    "rmsprop_cache = {k: np.zeros_like(v) for k, v in model.items()}"
   ]
  },
  {
   "cell_type": "markdown",
   "metadata": {},
   "source": [
    "# Define the discounted rewards (expected return) function"
   ]
  },
  {
   "cell_type": "code",
   "execution_count": 18,
   "metadata": {},
   "outputs": [],
   "source": [
    "gamma = 0.99\n",
    "\n",
    "def discount_rewards(r, gamma):\n",
    "    discounted_r = np.zeros_like(r)\n",
    "    running_add = 0\n",
    "    # From the last reward to the first...\n",
    "    for t in reversed(range(0, r.size)):\n",
    "        # ...reset the reward sum\n",
    "        if r[t] != 0:\n",
    "            running_add = 0\n",
    "        # ...compute the discounted reward\n",
    "        running_add = running_add * gamma + r[t]\n",
    "        discounted_r[t] = running_add\n",
    "    return discounted_r"
   ]
  },
  {
   "cell_type": "markdown",
   "metadata": {},
   "source": [
    "# Train the agent for a number of episodes"
   ]
  },
  {
   "cell_type": "code",
   "execution_count": 19,
   "metadata": {},
   "outputs": [],
   "source": [
    "def update_input(prev_x, cur_x, D):\n",
    "    if prev_x is not None:\n",
    "        x = cur_x - prev_x\n",
    "    else:\n",
    "        x = np.zeros(D)\n",
    "    return x"
   ]
  },
  {
   "cell_type": "code",
   "execution_count": 20,
   "metadata": {},
   "outputs": [],
   "source": [
    "max_episodes = 8000\n",
    "batch_size = 3\n",
    "learning_rate = 1e-4\n",
    "render = False\n",
    "observation = env_recorder.env.reset()[0]\n",
    "prev_x = None\n",
    "running_reward = None\n",
    "reward_sum = 0\n",
    "episode_number = 0"
   ]
  },
  {
   "cell_type": "code",
   "execution_count": 21,
   "metadata": {},
   "outputs": [
    {
     "name": "stdout",
     "output_type": "stream",
     "text": [
      "Resetting the Pong environment. Episode 0 total reward: -21.0 Running mean: -21.0\n",
      "Moviepy - Building video output_video_ep_0.mp4.\n",
      "Moviepy - Writing video output_video_ep_0.mp4\n",
      "\n"
     ]
    },
    {
     "name": "stderr",
     "output_type": "stream",
     "text": [
      "                                                                  \r"
     ]
    },
    {
     "name": "stdout",
     "output_type": "stream",
     "text": [
      "Moviepy - Done !\n",
      "Moviepy - video ready output_video_ep_0.mp4\n"
     ]
    },
    {
     "ename": "KeyboardInterrupt",
     "evalue": "",
     "output_type": "error",
     "traceback": [
      "\u001b[0;31m---------------------------------------------------------------------------\u001b[0m",
      "\u001b[0;31mKeyboardInterrupt\u001b[0m                         Traceback (most recent call last)",
      "Cell \u001b[0;32mIn[21], line 19\u001b[0m\n\u001b[1;32m     17\u001b[0m y \u001b[38;5;241m=\u001b[39m \u001b[38;5;241m1\u001b[39m \u001b[38;5;28;01mif\u001b[39;00m action \u001b[38;5;241m==\u001b[39m \u001b[38;5;241m2\u001b[39m \u001b[38;5;28;01melse\u001b[39;00m \u001b[38;5;241m0\u001b[39m\n\u001b[1;32m     18\u001b[0m dlogps\u001b[38;5;241m.\u001b[39mappend(y \u001b[38;5;241m-\u001b[39m aprob)\n\u001b[0;32m---> 19\u001b[0m observation, reward, terminated, truncated, info \u001b[38;5;241m=\u001b[39m \u001b[43menv_recorder\u001b[49m\u001b[38;5;241;43m.\u001b[39;49m\u001b[43menv\u001b[49m\u001b[38;5;241;43m.\u001b[39;49m\u001b[43mstep\u001b[49m\u001b[43m(\u001b[49m\u001b[43maction\u001b[49m\u001b[43m)\u001b[49m\n\u001b[1;32m     21\u001b[0m \u001b[38;5;66;03m# Every 10 episodes, start recording the video.\u001b[39;00m\n\u001b[1;32m     22\u001b[0m \u001b[38;5;28;01mif\u001b[39;00m episode_number \u001b[38;5;241m%\u001b[39m \u001b[38;5;241m1000\u001b[39m \u001b[38;5;241m==\u001b[39m \u001b[38;5;241m0\u001b[39m:\n",
      "File \u001b[0;32m~/miniconda3/envs/rl_projects/lib/python3.10/site-packages/gym/wrappers/order_enforcing.py:37\u001b[0m, in \u001b[0;36mOrderEnforcing.step\u001b[0;34m(self, action)\u001b[0m\n\u001b[1;32m     35\u001b[0m \u001b[38;5;28;01mif\u001b[39;00m \u001b[38;5;129;01mnot\u001b[39;00m \u001b[38;5;28mself\u001b[39m\u001b[38;5;241m.\u001b[39m_has_reset:\n\u001b[1;32m     36\u001b[0m     \u001b[38;5;28;01mraise\u001b[39;00m ResetNeeded(\u001b[38;5;124m\"\u001b[39m\u001b[38;5;124mCannot call env.step() before calling env.reset()\u001b[39m\u001b[38;5;124m\"\u001b[39m)\n\u001b[0;32m---> 37\u001b[0m \u001b[38;5;28;01mreturn\u001b[39;00m \u001b[38;5;28;43mself\u001b[39;49m\u001b[38;5;241;43m.\u001b[39;49m\u001b[43menv\u001b[49m\u001b[38;5;241;43m.\u001b[39;49m\u001b[43mstep\u001b[49m\u001b[43m(\u001b[49m\u001b[43maction\u001b[49m\u001b[43m)\u001b[49m\n",
      "File \u001b[0;32m~/miniconda3/envs/rl_projects/lib/python3.10/site-packages/gym/wrappers/env_checker.py:39\u001b[0m, in \u001b[0;36mPassiveEnvChecker.step\u001b[0;34m(self, action)\u001b[0m\n\u001b[1;32m     37\u001b[0m     \u001b[38;5;28;01mreturn\u001b[39;00m env_step_passive_checker(\u001b[38;5;28mself\u001b[39m\u001b[38;5;241m.\u001b[39menv, action)\n\u001b[1;32m     38\u001b[0m \u001b[38;5;28;01melse\u001b[39;00m:\n\u001b[0;32m---> 39\u001b[0m     \u001b[38;5;28;01mreturn\u001b[39;00m \u001b[38;5;28;43mself\u001b[39;49m\u001b[38;5;241;43m.\u001b[39;49m\u001b[43menv\u001b[49m\u001b[38;5;241;43m.\u001b[39;49m\u001b[43mstep\u001b[49m\u001b[43m(\u001b[49m\u001b[43maction\u001b[49m\u001b[43m)\u001b[49m\n",
      "File \u001b[0;32m~/miniconda3/envs/rl_projects/lib/python3.10/site-packages/ale_py/env/gym.py:256\u001b[0m, in \u001b[0;36mAtariEnv.step\u001b[0;34m(self, action_ind)\u001b[0m\n\u001b[1;32m    254\u001b[0m reward \u001b[38;5;241m=\u001b[39m \u001b[38;5;241m0.0\u001b[39m\n\u001b[1;32m    255\u001b[0m \u001b[38;5;28;01mfor\u001b[39;00m _ \u001b[38;5;129;01min\u001b[39;00m \u001b[38;5;28mrange\u001b[39m(frameskip):\n\u001b[0;32m--> 256\u001b[0m     reward \u001b[38;5;241m+\u001b[39m\u001b[38;5;241m=\u001b[39m \u001b[38;5;28;43mself\u001b[39;49m\u001b[38;5;241;43m.\u001b[39;49m\u001b[43male\u001b[49m\u001b[38;5;241;43m.\u001b[39;49m\u001b[43mact\u001b[49m\u001b[43m(\u001b[49m\u001b[43maction\u001b[49m\u001b[43m)\u001b[49m\n\u001b[1;32m    257\u001b[0m is_terminal \u001b[38;5;241m=\u001b[39m \u001b[38;5;28mself\u001b[39m\u001b[38;5;241m.\u001b[39male\u001b[38;5;241m.\u001b[39mgame_over(with_truncation\u001b[38;5;241m=\u001b[39m\u001b[38;5;28;01mFalse\u001b[39;00m)\n\u001b[1;32m    258\u001b[0m is_truncated \u001b[38;5;241m=\u001b[39m \u001b[38;5;28mself\u001b[39m\u001b[38;5;241m.\u001b[39male\u001b[38;5;241m.\u001b[39mgame_truncated()\n",
      "\u001b[0;31mKeyboardInterrupt\u001b[0m: "
     ]
    }
   ],
   "source": [
    "env_recorder = VideoRecorder(env, path=f'output_video_ep_{episode_number}.mp4', enabled=True) # this creates the video recorder for the 0th episode\n",
    "while episode_number <= max_episodes:\n",
    "\n",
    "    if render:\n",
    "        env_recorder.env.render()\n",
    "\n",
    "    cur_x = frame_preprocessing(observation).ravel()\n",
    "    x = update_input(prev_x, cur_x, D)\n",
    "    prev_x = cur_x\n",
    "\n",
    "    aprob, h = policy_forward(x, model)\n",
    "    action = 2 if rng.uniform() < aprob else 3\n",
    "\n",
    "    xs.append(x)\n",
    "    hs.append(h)\n",
    "\n",
    "    y = 1 if action == 2 else 0\n",
    "    dlogps.append(y - aprob)\n",
    "    observation, reward, terminated, truncated, info = env_recorder.env.step(action)\n",
    "\n",
    "    # Every 10 episodes, start recording the video.\n",
    "    if episode_number % 1000 == 0:\n",
    "        env_recorder.capture_frame()\n",
    "    reward_sum += reward\n",
    "    drs.append(reward)\n",
    "\n",
    "    if terminated:\n",
    "        epx = np.vstack(xs)\n",
    "        eph = np.vstack(hs)\n",
    "        epdlogp = np.vstack(dlogps)\n",
    "        epr = np.vstack(drs)\n",
    "\n",
    "        xs = []\n",
    "        hs = []\n",
    "        dlogps = []\n",
    "        drs = []\n",
    "\n",
    "        discounted_epr = discount_rewards(epr, gamma)\n",
    "        discounted_epr -= np.mean(discounted_epr)\n",
    "        discounted_epr /= np.std(discounted_epr)\n",
    "\n",
    "        epdlogp *= discounted_epr\n",
    "        grad = policy_backward(eph, epdlogp, epx, model)\n",
    "\n",
    "        for k in model:\n",
    "            grad_buffer[k] += grad[k]\n",
    "\n",
    "        if episode_number % batch_size == 0:\n",
    "            for k, v in model.items():\n",
    "                g = grad_buffer[k]\n",
    "                rmsprop_cache[k] = (\n",
    "                    decay_rate * rmsprop_cache[k] + (1 - decay_rate) * g ** 2\n",
    "                )\n",
    "                model[k] += learning_rate * g / (np.sqrt(rmsprop_cache[k]) + 1e-5)\n",
    "                grad_buffer[k] = np.zeros_like(v)\n",
    "\n",
    "        running_reward = (\n",
    "            reward_sum\n",
    "            if running_reward is None\n",
    "            else running_reward * 0.99 + reward_sum * 0.01\n",
    "        )\n",
    "        if episode_number % 100 == 0:\n",
    "            print(\n",
    "                \"Resetting the Pong environment. Episode {} total reward: {} Running mean: {}\".format(\n",
    "                    episode_number, reward_sum, running_reward\n",
    "                )\n",
    "            )\n",
    "\n",
    "        reward_sum = 0\n",
    "        observation = env_recorder.env.reset()[0]\n",
    "        prev_x = None\n",
    "\n",
    "        # Every 10 episodes, save the video.\n",
    "        if episode_number % 1000 == 0:\n",
    "            env_recorder.close() # This saves the video\n",
    "            env_recorder = VideoRecorder(env, path=f'output_video_ep_{episode_number}.mp4', enabled=True) # this creates a new video\n",
    "        episode_number += 1\n",
    "    # if reward != 0:\n",
    "    #     print(\n",
    "    #         \"Episode {}: Game finished. Reward: {}...\".format(episode_number, reward)\n",
    "    #         + (\"\" if reward == -1 else \" POSITIVE REWARD!\")\n",
    "    #     )\n",
    "\n",
    "env_recorder.close() # Get the last video"
   ]
  },
  {
   "cell_type": "code",
   "execution_count": null,
   "metadata": {},
   "outputs": [],
   "source": []
  }
 ],
 "metadata": {
  "kernelspec": {
   "display_name": "rl_projects",
   "language": "python",
   "name": "python3"
  },
  "language_info": {
   "codemirror_mode": {
    "name": "ipython",
    "version": 3
   },
   "file_extension": ".py",
   "mimetype": "text/x-python",
   "name": "python",
   "nbconvert_exporter": "python",
   "pygments_lexer": "ipython3",
   "version": "3.10.15"
  }
 },
 "nbformat": 4,
 "nbformat_minor": 2
}
